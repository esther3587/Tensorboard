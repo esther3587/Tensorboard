{
 "cells": [
  {
   "cell_type": "code",
   "execution_count": 53,
   "metadata": {},
   "outputs": [],
   "source": [
    "import pandas as pd\n",
    "import numpy as np\n",
    "import tensorflow as tf\n",
    "import math\n",
    "import os\n",
    "import sys\n",
    "from datetime import datetime\n",
    "from sklearn.model_selection import train_test_split"
   ]
  },
  {
   "cell_type": "code",
   "execution_count": 54,
   "metadata": {},
   "outputs": [
    {
     "name": "stdout",
     "output_type": "stream",
     "text": [
      "/Users/EstherChang/Documents/Version_Control/Tensorboard/logs\n"
     ]
    }
   ],
   "source": [
    "cur = os.getcwd()\n",
    "log_dir = os.path.join(cur,'logs')\n",
    "print(log_dir)"
   ]
  },
  {
   "cell_type": "code",
   "execution_count": 55,
   "metadata": {},
   "outputs": [],
   "source": [
    "titanic = pd.read_csv(\"titanic.csv\")"
   ]
  },
  {
   "cell_type": "code",
   "execution_count": 56,
   "metadata": {},
   "outputs": [
    {
     "data": {
      "text/html": [
       "<div>\n",
       "<style scoped>\n",
       "    .dataframe tbody tr th:only-of-type {\n",
       "        vertical-align: middle;\n",
       "    }\n",
       "\n",
       "    .dataframe tbody tr th {\n",
       "        vertical-align: top;\n",
       "    }\n",
       "\n",
       "    .dataframe thead th {\n",
       "        text-align: right;\n",
       "    }\n",
       "</style>\n",
       "<table border=\"1\" class=\"dataframe\">\n",
       "  <thead>\n",
       "    <tr style=\"text-align: right;\">\n",
       "      <th></th>\n",
       "      <th>Survived</th>\n",
       "      <th>Pclass</th>\n",
       "      <th>Name</th>\n",
       "      <th>Sex</th>\n",
       "      <th>Age</th>\n",
       "      <th>Siblings/Spouses Aboard</th>\n",
       "      <th>Parents/Children Aboard</th>\n",
       "      <th>Fare</th>\n",
       "    </tr>\n",
       "  </thead>\n",
       "  <tbody>\n",
       "    <tr>\n",
       "      <th>0</th>\n",
       "      <td>0</td>\n",
       "      <td>3</td>\n",
       "      <td>Mr. Owen Harris Braund</td>\n",
       "      <td>male</td>\n",
       "      <td>22.0</td>\n",
       "      <td>1</td>\n",
       "      <td>0</td>\n",
       "      <td>7.2500</td>\n",
       "    </tr>\n",
       "    <tr>\n",
       "      <th>1</th>\n",
       "      <td>1</td>\n",
       "      <td>1</td>\n",
       "      <td>Mrs. John Bradley (Florence Briggs Thayer) Cum...</td>\n",
       "      <td>female</td>\n",
       "      <td>38.0</td>\n",
       "      <td>1</td>\n",
       "      <td>0</td>\n",
       "      <td>71.2833</td>\n",
       "    </tr>\n",
       "    <tr>\n",
       "      <th>2</th>\n",
       "      <td>1</td>\n",
       "      <td>3</td>\n",
       "      <td>Miss. Laina Heikkinen</td>\n",
       "      <td>female</td>\n",
       "      <td>26.0</td>\n",
       "      <td>0</td>\n",
       "      <td>0</td>\n",
       "      <td>7.9250</td>\n",
       "    </tr>\n",
       "    <tr>\n",
       "      <th>3</th>\n",
       "      <td>1</td>\n",
       "      <td>1</td>\n",
       "      <td>Mrs. Jacques Heath (Lily May Peel) Futrelle</td>\n",
       "      <td>female</td>\n",
       "      <td>35.0</td>\n",
       "      <td>1</td>\n",
       "      <td>0</td>\n",
       "      <td>53.1000</td>\n",
       "    </tr>\n",
       "    <tr>\n",
       "      <th>4</th>\n",
       "      <td>0</td>\n",
       "      <td>3</td>\n",
       "      <td>Mr. William Henry Allen</td>\n",
       "      <td>male</td>\n",
       "      <td>35.0</td>\n",
       "      <td>0</td>\n",
       "      <td>0</td>\n",
       "      <td>8.0500</td>\n",
       "    </tr>\n",
       "  </tbody>\n",
       "</table>\n",
       "</div>"
      ],
      "text/plain": [
       "   Survived  Pclass                                               Name  \\\n",
       "0         0       3                             Mr. Owen Harris Braund   \n",
       "1         1       1  Mrs. John Bradley (Florence Briggs Thayer) Cum...   \n",
       "2         1       3                              Miss. Laina Heikkinen   \n",
       "3         1       1        Mrs. Jacques Heath (Lily May Peel) Futrelle   \n",
       "4         0       3                            Mr. William Henry Allen   \n",
       "\n",
       "      Sex   Age  Siblings/Spouses Aboard  Parents/Children Aboard     Fare  \n",
       "0    male  22.0                        1                        0   7.2500  \n",
       "1  female  38.0                        1                        0  71.2833  \n",
       "2  female  26.0                        0                        0   7.9250  \n",
       "3  female  35.0                        1                        0  53.1000  \n",
       "4    male  35.0                        0                        0   8.0500  "
      ]
     },
     "execution_count": 56,
     "metadata": {},
     "output_type": "execute_result"
    }
   ],
   "source": [
    "titanic.head()"
   ]
  },
  {
   "cell_type": "code",
   "execution_count": 57,
   "metadata": {},
   "outputs": [
    {
     "name": "stdout",
     "output_type": "stream",
     "text": [
      "(887, 6)\n"
     ]
    }
   ],
   "source": [
    "label = titanic['Survived']\n",
    "data = titanic.drop(['Survived','Name'], axis=1)\n",
    "from sklearn.preprocessing import LabelEncoder\n",
    "le = LabelEncoder()\n",
    "data['Sex'] = le.fit_transform(data['Sex'])\n",
    "print(data.shape)"
   ]
  },
  {
   "cell_type": "code",
   "execution_count": 58,
   "metadata": {},
   "outputs": [],
   "source": [
    "data = np.asarray(data).astype('float32')\n",
    "label = np.asarray(label).astype('float32').reshape((-1,1))\n",
    "x_train, x_test, y_train, y_test = train_test_split(data, label, test_size = 0.2)"
   ]
  },
  {
   "cell_type": "code",
   "execution_count": 59,
   "metadata": {},
   "outputs": [],
   "source": [
    "tf.reset_default_graph()"
   ]
  },
  {
   "cell_type": "code",
   "execution_count": 60,
   "metadata": {},
   "outputs": [],
   "source": [
    "sess = tf.InteractiveSession()"
   ]
  },
  {
   "cell_type": "code",
   "execution_count": 61,
   "metadata": {},
   "outputs": [],
   "source": [
    "with tf.name_scope('input'):\n",
    "    x = tf.placeholder(tf.float32, [None, 6], name = 'x-input')\n",
    "    y_ = tf.placeholder(tf.float32, [None,1], name = 'y-input')"
   ]
  },
  {
   "cell_type": "code",
   "execution_count": 62,
   "metadata": {},
   "outputs": [],
   "source": [
    "def weight_variable(shape):\n",
    "    weight = tf.Variable(tf.truncated_normal(shape, stddev = 0.1))\n",
    "    return weight\n",
    "def bias_variable(shape):\n",
    "    bias = tf.Variable(tf.constant(0.1, shape=shape))\n",
    "    return bias\n",
    "def variable_summaries(var):\n",
    "    with tf.name_scope('summaries'):\n",
    "        mean = tf.reduce_mean(var)\n",
    "        tf.summary.scalar('mean',mean)\n",
    "        with tf.name_scope('stddev'):\n",
    "            stddev = tf.sqrt(tf.reduce_mean(tf.square(var-mean)))\n",
    "        tf.summary.scalar('stddev',stddev)\n",
    "        tf.summary.scalar('max', tf.reduce_max(var))\n",
    "        tf.summary.scalar('min', tf.reduce_min(var))\n",
    "        tf.summary.histogram('hist', var)"
   ]
  },
  {
   "cell_type": "code",
   "execution_count": 63,
   "metadata": {},
   "outputs": [],
   "source": [
    "def nn_layer(input_tensor, input_dim, output_dim, layer_name, activation=tf.nn.relu):\n",
    "    with tf.name_scope(layer_name):\n",
    "        with tf.name_scope('weight'):\n",
    "            weight = weight_variable([input_dim, output_dim])\n",
    "            variable_summaries(weight)\n",
    "        with tf.name_scope('bias'):\n",
    "            bias = bias_variable([output_dim])\n",
    "            variable_summaries(bias)\n",
    "        with tf.name_scope('Wx_plus_b'):\n",
    "            preactivate = tf.matmul(input_tensor, weight) + bias\n",
    "            tf.summary.histogram('preactivate', preactivate)\n",
    "        \n",
    "        activations = activation(preactivate, name = 'activation')\n",
    "        tf.summary.histogram('activation', activations)\n",
    "    return activations"
   ]
  },
  {
   "cell_type": "code",
   "execution_count": 64,
   "metadata": {},
   "outputs": [],
   "source": [
    "hidden1 = nn_layer(x, 6, 15, 'layer1')\n",
    "\n",
    "with tf.name_scope('dropout'):\n",
    "    keep_prob = tf.placeholder(tf.float32)\n",
    "    tf.summary.scalar('keep_prob', keep_prob)\n",
    "    dropped = tf.nn.dropout(hidden1, keep_prob)\n",
    "\n",
    "y = nn_layer(dropped, 15, 1, 'layer2', activation=tf.identity)"
   ]
  },
  {
   "cell_type": "code",
   "execution_count": 65,
   "metadata": {},
   "outputs": [],
   "source": [
    "with tf.name_scope('cross_entropy'):\n",
    "    with tf.name_scope('total'):\n",
    "        cross_entropy = tf.nn.sigmoid_cross_entropy_with_logits(labels = y_, logits = y)\n",
    "        loss = tf.reduce_mean(cross_entropy)\n",
    "    tf.summary.scalar('loss', loss)"
   ]
  },
  {
   "cell_type": "code",
   "execution_count": 66,
   "metadata": {},
   "outputs": [
    {
     "data": {
      "text/plain": [
       "<tf.Tensor 'pr/pr_curves:0' shape=() dtype=string>"
      ]
     },
     "execution_count": 66,
     "metadata": {},
     "output_type": "execute_result"
    }
   ],
   "source": [
    "learning_rate = 0.005\n",
    "with tf.name_scope('train'):\n",
    "    train_step = tf.train.AdamOptimizer(learning_rate = learning_rate).minimize(loss)\n",
    "with tf.name_scope('accuracy'):\n",
    "    with tf.name_scope('correct_prediction'):\n",
    "        pred = tf.round(tf.nn.sigmoid(y))\n",
    "        correct_pred = tf.equal(pred, y_)\n",
    "    with tf.name_scope('accuracy'):\n",
    "        accuracy = tf.reduce_mean(tf.cast(correct_pred, tf.float32))\n",
    "tf.summary.scalar('accuracy', accuracy)\n",
    "tf.summary.histogram('correct_pred', tf.cast(correct_pred, tf.int64))\n",
    "from tensorboard import summary as summary_lib\n",
    "from tensorboard.plugins.pr_curve import summary\n",
    "#summary_proto = summary_lib.pr_curve(name = \"pr\", predictions = pred, labels = tf.cast(y_, tf.bool))\n",
    "#_, update_op = summary_lib.pr_curve_streaming_op(name='pr',\n",
    "#                                                 predictions=pred,\n",
    "#                                                 labels=tf.cast(y_, tf.bool),\n",
    "#                                                 num_thresholds=11)\n",
    "summary.op(name='pr', predictions=tf.nn.sigmoid(y), labels=tf.cast(y_, tf.bool), num_thresholds=100)"
   ]
  },
  {
   "cell_type": "code",
   "execution_count": 67,
   "metadata": {},
   "outputs": [],
   "source": [
    "merged_summary = tf.summary.merge_all()\n",
    "time = datetime.now().strftime('%Y-%m-%d %H:%M:%S')\n",
    "train_writer = tf.summary.FileWriter(log_dir + '/train' + time, sess.graph)\n",
    "test_writer = tf.summary.FileWriter(log_dir + '/test' + time)\n",
    "tf.global_variables_initializer().run()\n",
    "tf.local_variables_initializer().run()"
   ]
  },
  {
   "cell_type": "code",
   "execution_count": 68,
   "metadata": {},
   "outputs": [
    {
     "name": "stdout",
     "output_type": "stream",
     "text": [
      "Accuracy at step 0: 0.7022472\n",
      "Accuracy at step 10: 0.6966292\n",
      "Accuracy at step 20: 0.6797753\n",
      "Accuracy at step 30: 0.66853935\n",
      "Accuracy at step 40: 0.6797753\n",
      "Accuracy at step 50: 0.6853933\n",
      "Accuracy at step 60: 0.69101125\n",
      "Accuracy at step 70: 0.6797753\n",
      "Accuracy at step 80: 0.66853935\n",
      "Accuracy at step 90: 0.7022472\n",
      "Accuracy at step 100: 0.6966292\n",
      "Accuracy at step 110: 0.6853933\n",
      "Accuracy at step 120: 0.69101125\n",
      "Accuracy at step 130: 0.7078652\n",
      "Accuracy at step 140: 0.75842696\n",
      "Accuracy at step 150: 0.747191\n",
      "Accuracy at step 160: 0.747191\n",
      "Accuracy at step 170: 0.7078652\n",
      "Accuracy at step 180: 0.752809\n",
      "Accuracy at step 190: 0.7303371\n",
      "Accuracy at step 200: 0.74157304\n",
      "Accuracy at step 210: 0.74157304\n",
      "Accuracy at step 220: 0.71910113\n",
      "Accuracy at step 230: 0.74157304\n",
      "Accuracy at step 240: 0.74157304\n",
      "Accuracy at step 250: 0.74157304\n",
      "Accuracy at step 260: 0.752809\n",
      "Accuracy at step 270: 0.73595506\n",
      "Accuracy at step 280: 0.747191\n",
      "Accuracy at step 290: 0.74157304\n",
      "Accuracy at step 300: 0.752809\n",
      "Accuracy at step 310: 0.74157304\n",
      "Accuracy at step 320: 0.747191\n",
      "Accuracy at step 330: 0.752809\n",
      "Accuracy at step 340: 0.74157304\n",
      "Accuracy at step 350: 0.752809\n",
      "Accuracy at step 360: 0.74157304\n",
      "Accuracy at step 370: 0.747191\n",
      "Accuracy at step 380: 0.747191\n",
      "Accuracy at step 390: 0.747191\n",
      "Accuracy at step 400: 0.73595506\n",
      "Accuracy at step 410: 0.75842696\n",
      "Accuracy at step 420: 0.747191\n",
      "Accuracy at step 430: 0.747191\n",
      "Accuracy at step 440: 0.747191\n",
      "Accuracy at step 450: 0.747191\n",
      "Accuracy at step 460: 0.747191\n",
      "Accuracy at step 470: 0.752809\n",
      "Accuracy at step 480: 0.75842696\n",
      "Accuracy at step 490: 0.75842696\n"
     ]
    }
   ],
   "source": [
    "epoch = 500\n",
    "for i in range(epoch):\n",
    "    if i % 10 == 0:\n",
    "        summary, acc = sess.run([merged_summary, accuracy], \n",
    "                                feed_dict = {x:x_test, y_: y_test, keep_prob:1.0})\n",
    "        test_writer.add_summary(summary, i)\n",
    "        print('Accuracy at step %s: %s' %(i, acc))\n",
    "    else:\n",
    "        summary, _ = sess.run([merged_summary, train_step], \n",
    "                              feed_dict = {x:x_train, y_: y_train, keep_prob:0.8} )\n",
    "        train_writer.add_summary(summary, i)\n",
    "train_writer.close()\n",
    "test_writer.close()\n",
    "sess.close()"
   ]
  },
  {
   "cell_type": "code",
   "execution_count": null,
   "metadata": {},
   "outputs": [],
   "source": []
  }
 ],
 "metadata": {
  "kernelspec": {
   "display_name": "Python 3",
   "language": "python",
   "name": "python3"
  },
  "language_info": {
   "codemirror_mode": {
    "name": "ipython",
    "version": 3
   },
   "file_extension": ".py",
   "mimetype": "text/x-python",
   "name": "python",
   "nbconvert_exporter": "python",
   "pygments_lexer": "ipython3",
   "version": "3.6.6"
  }
 },
 "nbformat": 4,
 "nbformat_minor": 2
}
