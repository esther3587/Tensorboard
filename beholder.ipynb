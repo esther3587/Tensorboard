{
 "cells": [
  {
   "cell_type": "code",
   "execution_count": 1,
   "metadata": {},
   "outputs": [],
   "source": [
    "import tensorflow as tf\n",
    "import tensorboard.plugins.beholder as beholder_lib\n",
    "import pandas as pd\n",
    "import numpy as np\n",
    "import tensorflow as tf\n",
    "import math\n",
    "import os\n",
    "import sys\n",
    "from datetime import datetime"
   ]
  },
  {
   "cell_type": "code",
   "execution_count": 2,
   "metadata": {},
   "outputs": [
    {
     "name": "stdout",
     "output_type": "stream",
     "text": [
      "/Users/EstherChang/Documents/Version_Control/Tensorboard/logs\n"
     ]
    }
   ],
   "source": [
    "cur = os.path.dirname(os.path.realpath('beholder.ipynb'))\n",
    "log_dir = os.path.join(cur,'logs')\n",
    "print(log_dir)"
   ]
  },
  {
   "cell_type": "code",
   "execution_count": 3,
   "metadata": {},
   "outputs": [
    {
     "name": "stdout",
     "output_type": "stream",
     "text": [
      "num of batch: 601\n"
     ]
    }
   ],
   "source": [
    "mnist = tf.keras.datasets.mnist\n",
    "(x_train, y_train),(x_test, y_test) = mnist.load_data()\n",
    "x_train, x_test = x_train / 255.0, x_test / 255.0\n",
    "x_train = np.reshape(x_train, [-1,784])\n",
    "x_test = np.reshape(x_test, [-1,784])\n",
    "batch_size = 100\n",
    "batch = len(x_train)//batch_size + 1\n",
    "print(\"num of batch: %s\" %batch)"
   ]
  },
  {
   "cell_type": "code",
   "execution_count": 4,
   "metadata": {},
   "outputs": [],
   "source": [
    "tf.reset_default_graph()\n",
    "sess = tf.InteractiveSession()"
   ]
  },
  {
   "cell_type": "code",
   "execution_count": 5,
   "metadata": {},
   "outputs": [],
   "source": [
    "with tf.name_scope('input'):\n",
    "    x = tf.placeholder(tf.float32, [None, 784], name = 'x-input')\n",
    "    y_ = tf.placeholder(tf.int64, [None], name = 'y-input')\n",
    "with tf.name_scope('input-reshape'):\n",
    "    image_shaped_input = tf.reshape(x, [-1, 28, 28, 1])\n",
    "    tf.summary.image('input', image_shaped_input, 10)\n",
    "def weight_variable(shape):\n",
    "    weight = tf.Variable(tf.truncated_normal(shape, stddev = 0.1))\n",
    "    return weight\n",
    "def bias_variable(shape):\n",
    "    bias = tf.Variable(tf.constant(0.1, shape=shape))\n",
    "    return bias\n",
    "def variable_summaries(var):\n",
    "    with tf.name_scope('summaries'):\n",
    "        mean = tf.reduce_mean(var)\n",
    "        tf.summary.scalar('mean',mean)\n",
    "        with tf.name_scope('stddev'):\n",
    "            stddev = tf.sqrt(tf.reduce_mean(tf.square(var-mean)))\n",
    "        tf.summary.scalar('stddev',stddev)\n",
    "        tf.summary.scalar('max', tf.reduce_max(var))\n",
    "        tf.summary.scalar('min', tf.reduce_min(var))\n",
    "        tf.summary.histogram('hist', var)\n",
    "def nn_layer(input_tensor, input_dim, output_dim, layer_name, activation=tf.nn.relu):\n",
    "    with tf.name_scope(layer_name):\n",
    "        with tf.name_scope('weight'):\n",
    "            weight = weight_variable([input_dim, output_dim])\n",
    "            variable_summaries(weight)\n",
    "        with tf.name_scope('bias'):\n",
    "            bias = bias_variable([output_dim])\n",
    "            variable_summaries(bias)\n",
    "        with tf.name_scope('Wx_plus_b'):\n",
    "            preactivate = tf.matmul(input_tensor, weight) + bias\n",
    "            tf.summary.histogram('preactivate', preactivate)\n",
    "        \n",
    "        activations = activation(preactivate, name = 'activation')\n",
    "        tf.summary.histogram('activation', activations)\n",
    "    return activations"
   ]
  },
  {
   "cell_type": "code",
   "execution_count": 6,
   "metadata": {},
   "outputs": [],
   "source": [
    "hidden1 = nn_layer(x, 784, 500, 'layer1')\n",
    "\n",
    "with tf.name_scope('dropout'):\n",
    "    keep_prob = tf.placeholder(tf.float32)\n",
    "    tf.summary.scalar('keep_prob', keep_prob)\n",
    "    dropped = tf.nn.dropout(hidden1, keep_prob)\n",
    "\n",
    "y = nn_layer(dropped, 500, 10, 'layer2', activation=tf.identity)\n",
    "\n",
    "with tf.name_scope('cross_entropy'):\n",
    "    with tf.name_scope('total'):\n",
    "        cross_entropy = tf.losses.sparse_softmax_cross_entropy(labels = y_, logits = y)\n",
    "    tf.summary.scalar('cross_entropy', cross_entropy)\n",
    "\n",
    "learning_rate = 0.01\n",
    "with tf.name_scope('train'):\n",
    "    optimizer = tf.train.AdamOptimizer(learning_rate = learning_rate)\n",
    "    #train_step = optimizer.minimize(cross_entropy)\n",
    "    gradients, train_step = beholder_lib.Beholder.gradient_helper(optimizer, cross_entropy)\n",
    "with tf.name_scope('accuracy'):\n",
    "    with tf.name_scope('correct_prediction'):\n",
    "        correct_pred = tf.equal(tf.argmax(y, 1), y_)\n",
    "    with tf.name_scope('accuracy'):\n",
    "        accuracy = tf.reduce_mean(tf.cast(correct_pred, tf.float32))\n",
    "tf.summary.scalar('accuracy', accuracy)\n",
    "\n",
    "merged_summary = tf.summary.merge_all()\n",
    "time = datetime.now().strftime('%d-%H-%M-%S')\n",
    "train_writer = tf.summary.FileWriter(os.path.join(log_dir,'train',time), sess.graph)\n",
    "test_writer = tf.summary.FileWriter(os.path.join(log_dir,'test',time))\n",
    "tf.global_variables_initializer().run()"
   ]
  },
  {
   "cell_type": "code",
   "execution_count": 7,
   "metadata": {},
   "outputs": [],
   "source": [
    "beholder = beholder_lib.Beholder(logdir=log_dir)"
   ]
  },
  {
   "cell_type": "code",
   "execution_count": null,
   "metadata": {},
   "outputs": [
    {
     "name": "stdout",
     "output_type": "stream",
     "text": [
      "Accuracy at step 0: 0.1214\n"
     ]
    }
   ],
   "source": [
    "epoch = 500\n",
    "for i in range(epoch):\n",
    "    \n",
    "    if i % 10 == 0:\n",
    "        summary, acc, gradient_arrays = sess.run([merged_summary, accuracy, gradients ], \n",
    "                                feed_dict = {x:x_test, y_: y_test, keep_prob : 1.0})\n",
    "        test_writer.add_summary(summary, i)\n",
    "        print('Accuracy at step %s: %s' %(i, acc))\n",
    "    else:\n",
    "        summary, gradient_arrays, _ = sess.run([merged_summary, gradients, train_step], \n",
    "                              feed_dict = {x:x_train[i*batch_size:(i+1)*batch_size]\n",
    "                                           , y_: y_train[i*batch_size:(i+1)*batch_size], keep_prob : 0.8} )\n",
    "        train_writer.add_summary(summary, i)\n",
    "    beholder.update(session=sess, arrays=gradient_arrays)"
   ]
  },
  {
   "cell_type": "code",
   "execution_count": null,
   "metadata": {},
   "outputs": [],
   "source": [
    "train_writer.close()\n",
    "test_writer.close()\n",
    "sess.close()"
   ]
  }
 ],
 "metadata": {
  "kernelspec": {
   "display_name": "Python 3",
   "language": "python",
   "name": "python3"
  },
  "language_info": {
   "codemirror_mode": {
    "name": "ipython",
    "version": 3
   },
   "file_extension": ".py",
   "mimetype": "text/x-python",
   "name": "python",
   "nbconvert_exporter": "python",
   "pygments_lexer": "ipython3",
   "version": "3.6.6"
  }
 },
 "nbformat": 4,
 "nbformat_minor": 2
}
