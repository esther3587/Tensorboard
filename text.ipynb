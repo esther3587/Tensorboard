{
 "cells": [
  {
   "cell_type": "code",
   "execution_count": 1,
   "metadata": {},
   "outputs": [
    {
     "name": "stderr",
     "output_type": "stream",
     "text": [
      "Using TensorFlow backend.\n"
     ]
    }
   ],
   "source": [
    "from keras.datasets import imdb\n",
    "import pandas as pd\n",
    "import numpy as np\n",
    "import tensorflow as tf\n",
    "import math\n",
    "from datetime import datetime\n",
    "import os\n",
    "\n",
    "PATH = os.getcwd()\n",
    "logdir = os.path.join(PATH ,'logs')\n",
    "\n",
    "STEPS = 8"
   ]
  },
  {
   "cell_type": "code",
   "execution_count": 2,
   "metadata": {},
   "outputs": [],
   "source": [
    "def simple_example(step):\n",
    "  # Text summaries log arbitrary text. This can be encoded with ASCII or\n",
    "  # UTF-8. Here's a simple example, wherein we greet the user on each\n",
    "  # step:\n",
    "    step_string = tf.as_string(step)\n",
    "    greeting = tf.string_join(['Hello from step ', step_string, '!'])\n",
    "    #greeting = tf.constant('Hello my name is Esther and this is a text demo of Tensorboard.', dtype=tf.string)\n",
    "    tf.summary.text('greeting', greeting)\n",
    "\n",
    "\n",
    "def markdown_table(step):\n",
    "  # The text summary can also contain Markdown, including Markdown\n",
    "  # tables. Markdown tables look like this:\n",
    "  #\n",
    "  #     | hello | there |\n",
    "  #     |-------|-------|\n",
    "  #     | this  | is    |\n",
    "  #     | a     | table |\n",
    "  #\n",
    "  # The leading and trailing pipes in each row are optional, and the text\n",
    "  # doesn't actually have to be neatly aligned, so we can create these\n",
    "  # pretty easily. Let's do so.\n",
    "    header_row = 'Pounds of chocolate | Happiness'\n",
    "    chocolate = tf.range(step)\n",
    "    happiness = tf.square(chocolate + 1)\n",
    "    chocolate_column = tf.as_string(chocolate)\n",
    "    happiness_column = tf.as_string(happiness)\n",
    "    table_rows = tf.string_join([chocolate_column, \" | \", happiness_column])\n",
    "    table_body = tf.reduce_join(table_rows, separator='\\n')\n",
    "    table = tf.string_join([header_row, \"---|---\", table_body], separator='\\n')\n",
    "    preamble = 'We conducted an experiment and found the following data:\\n\\n'\n",
    "    result = tf.string_join([preamble, table])\n",
    "    tf.summary.text('chocolate_study', result)\n",
    "\n",
    "\n",
    "def higher_order_tensors(step):\n",
    "  # We're not limited to passing scalar tensors to the summary\n",
    "  # operation. If we pass a rank-1 or rank-2 tensor, it'll be visualized\n",
    "  # as a table in TensorBoard. (For higher-ranked tensors, you'll see\n",
    "  # just a 2D slice of the data.)\n",
    "  #\n",
    "  # To demonstrate this, let's create a multiplication table.\n",
    "\n",
    "  # First, we'll create the table body, a `step`-by-`step` array of\n",
    "  # strings.\n",
    "    numbers = tf.range(step)\n",
    "    numbers_row = tf.expand_dims(numbers, 0)  # shape: [1, step]\n",
    "    numbers_column = tf.expand_dims(numbers, 1)  # shape: [step, 1]\n",
    "    products = tf.matmul(numbers_column, numbers_row)  # shape: [step, step]\n",
    "    table_body = tf.as_string(products)\n",
    "\n",
    "  # Next, we'll create a header row and column, and a little\n",
    "  # multiplication sign to put in the corner.\n",
    "    bold_numbers = tf.string_join(['**', tf.as_string(numbers), '**'])\n",
    "    bold_row = tf.expand_dims(bold_numbers, 0)\n",
    "    bold_column = tf.expand_dims(bold_numbers, 1)\n",
    "    corner_cell = tf.constant(u'\\u00d7'.encode('utf-8'))  # MULTIPLICATION SIGN\n",
    "\n",
    "  # Now, we have to put the pieces together. Using `axis=0` stacks\n",
    "  # vertically; using `axis=1` juxtaposes horizontally.\n",
    "    table_body_and_top_row = tf.concat([bold_row, table_body], axis=0)\n",
    "    table_left_column = tf.concat([[[corner_cell]], bold_column], axis=0)\n",
    "    table_full = tf.concat([table_left_column, table_body_and_top_row], axis=1)\n",
    "\n",
    "  # The result, `table_full`, is a rank-2 string tensor of shape\n",
    "  # `[step + 1, step + 1]`. We can pass it directly to the summary, and\n",
    "  # we'll get a nicely formatted table in TensorBoard.\n",
    "    tf.summary.text('multiplication_table', table_full)\n",
    "  "
   ]
  },
  {
   "cell_type": "code",
   "execution_count": 3,
   "metadata": {},
   "outputs": [],
   "source": [
    "tf.reset_default_graph()\n",
    "sess = tf.InteractiveSession()\n",
    "step_placeholder = tf.placeholder(tf.int32)\n",
    "\n",
    "with tf.name_scope('simple_example'):\n",
    "    simple_example(step_placeholder)\n",
    "with tf.name_scope('markdown_table'):\n",
    "    markdown_table(step_placeholder)\n",
    "with tf.name_scope('higher_order_tensors'):\n",
    "    higher_order_tensors(step_placeholder)\n",
    "all_summaries = tf.summary.merge_all()\n",
    "\n",
    "\n",
    "writer = tf.summary.FileWriter(os.path.join(logdir, \"text\"))\n",
    "writer.add_graph(sess.graph)\n",
    "for step in range(STEPS):\n",
    "    s = sess.run(all_summaries, feed_dict={step_placeholder: step})\n",
    "    writer.add_summary(s, global_step=step)\n",
    "writer.close()\n",
    "sess.close()"
   ]
  },
  {
   "cell_type": "code",
   "execution_count": null,
   "metadata": {},
   "outputs": [],
   "source": []
  }
 ],
 "metadata": {
  "kernelspec": {
   "display_name": "Python 3",
   "language": "python",
   "name": "python3"
  },
  "language_info": {
   "codemirror_mode": {
    "name": "ipython",
    "version": 3
   },
   "file_extension": ".py",
   "mimetype": "text/x-python",
   "name": "python",
   "nbconvert_exporter": "python",
   "pygments_lexer": "ipython3",
   "version": "3.6.6"
  }
 },
 "nbformat": 4,
 "nbformat_minor": 2
}
